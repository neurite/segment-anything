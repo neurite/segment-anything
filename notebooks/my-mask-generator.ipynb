{
 "cells": [
  {
   "cell_type": "code",
   "execution_count": null,
   "id": "15832489-be4d-4b28-9ab4-87d31274004e",
   "metadata": {},
   "outputs": [],
   "source": [
    "import cv2\n",
    "import matplotlib.pyplot as plt\n",
    "import numpy as np\n",
    "import pillow_avif\n",
    "import torch\n",
    "from PIL import Image\n",
    "\n",
    "from segment_anything import sam_model_registry\n",
    "from segment_anything import SamAutomaticMaskGenerator, SamPredictor"
   ]
  },
  {
   "cell_type": "code",
   "execution_count": null,
   "id": "9fc760e1-e3e4-4205-9050-c64640a6b20a",
   "metadata": {},
   "outputs": [],
   "source": [
    "def show_anns(anns):\n",
    "    if len(anns) == 0:\n",
    "        return None\n",
    "    sorted_anns = sorted(anns, key=(lambda x: x['area']), reverse=True)\n",
    "    img = np.ones((sorted_anns[0]['segmentation'].shape[0], sorted_anns[0]['segmentation'].shape[1], 4))\n",
    "    # The alpha channel is set to 0, i.e. the image is transparent\n",
    "    img[:,:,3] = 0\n",
    "    for ann in sorted_anns:\n",
    "        m = ann['segmentation']\n",
    "        # Generate a random colol: np.random.random(3) generates a random float for each color channel\n",
    "        # Transparency 0.35\n",
    "        color_mask = np.concatenate([np.random.random(3), [0.35]])\n",
    "        img[m] = color_mask\n",
    "    return img"
   ]
  },
  {
   "cell_type": "code",
   "execution_count": null,
   "id": "be35aabc-2cbe-4bca-86b2-26851082c4d6",
   "metadata": {},
   "outputs": [],
   "source": [
    "print(sam_model_registry.keys())"
   ]
  },
  {
   "cell_type": "code",
   "execution_count": null,
   "id": "e9afb113-087f-4ab2-947e-f608beae3f13",
   "metadata": {},
   "outputs": [],
   "source": [
    "# Default is vit_h\n",
    "sam = sam_model_registry['vit_h'](checkpoint='../models/sam_vit_h_4b8939.pth')\n",
    "mask_generator = SamAutomaticMaskGenerator(sam)"
   ]
  },
  {
   "cell_type": "code",
   "execution_count": null,
   "id": "4689069a-02b4-49f7-abe9-f4970e665cbe",
   "metadata": {},
   "outputs": [],
   "source": [
    "img = np.array(Image.open('../../../fashion/images/brands/wear-1703467514_1000.avif'))\n",
    "fig, ax = plt.subplots(figsize=(12, 12))\n",
    "ax.axis('off')\n",
    "ax.imshow(img)"
   ]
  },
  {
   "cell_type": "code",
   "execution_count": null,
   "id": "672eefbc-dabc-40c8-83c3-53950d8debc4",
   "metadata": {},
   "outputs": [],
   "source": [
    "img = np.array(img)"
   ]
  },
  {
   "cell_type": "code",
   "execution_count": null,
   "id": "ff33e86d-5fd7-49b4-95df-df6a2ab110c7",
   "metadata": {},
   "outputs": [],
   "source": [
    "%time masks = mask_generator.generate(img)"
   ]
  },
  {
   "cell_type": "code",
   "execution_count": null,
   "id": "ac10f95a-f0be-450c-8e83-19398673e4bf",
   "metadata": {},
   "outputs": [],
   "source": [
    "sam.to(device='cuda')\n",
    "%time masks = mask_generator.generate(img)"
   ]
  },
  {
   "cell_type": "code",
   "execution_count": null,
   "id": "3a1a8211-ae0e-49be-b6d1-76e9d4c737e2",
   "metadata": {},
   "outputs": [],
   "source": [
    "fig, ax = plt.subplots(figsize=(12, 12))\n",
    "annotated_img = show_anns(masks)\n",
    "ax.imshow(annotated_img)\n",
    "ax.axis('off')\n",
    "plt.show()"
   ]
  }
 ],
 "metadata": {
  "kernelspec": {
   "display_name": "sam",
   "language": "python",
   "name": "sam"
  },
  "language_info": {
   "codemirror_mode": {
    "name": "ipython",
    "version": 3
   },
   "file_extension": ".py",
   "mimetype": "text/x-python",
   "name": "python",
   "nbconvert_exporter": "python",
   "pygments_lexer": "ipython3",
   "version": "3.11.5"
  }
 },
 "nbformat": 4,
 "nbformat_minor": 5
}
